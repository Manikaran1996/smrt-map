{
 "cells": [
  {
   "cell_type": "code",
   "execution_count": 1,
   "metadata": {},
   "outputs": [],
   "source": [
    "import requests\n",
    "from bs4 import BeautifulSoup"
   ]
  },
  {
   "cell_type": "code",
   "execution_count": 2,
   "metadata": {},
   "outputs": [],
   "source": [
    "url = 'https://en.wikipedia.org/wiki/List_of_Singapore_MRT_stations'"
   ]
  },
  {
   "cell_type": "code",
   "execution_count": 3,
   "metadata": {},
   "outputs": [],
   "source": [
    "html_page = requests.get(url).text"
   ]
  },
  {
   "cell_type": "code",
   "execution_count": 4,
   "metadata": {},
   "outputs": [],
   "source": [
    "parser = BeautifulSoup(html_page, 'html.parser')"
   ]
  },
  {
   "cell_type": "code",
   "execution_count": 5,
   "metadata": {},
   "outputs": [],
   "source": [
    "table = parser.find_all(attrs={\"class\": \"wikitable\"})[1]"
   ]
  },
  {
   "cell_type": "code",
   "execution_count": 6,
   "metadata": {},
   "outputs": [],
   "source": [
    "rows = table.find_all('tr')"
   ]
  },
  {
   "cell_type": "code",
   "execution_count": 7,
   "metadata": {},
   "outputs": [],
   "source": [
    "data = []\n",
    "for row in rows[2:]:\n",
    "    cols = row.find_all(['td', 'th'])\n",
    "    if len(cols) < 3:\n",
    "        continue\n",
    "    if cols[0].text.strip() == 'N/A':\n",
    "        continue\n",
    "    data.append([list(map(lambda code: code.strip(), cols[0].text.split())), cols[2].text.strip()])"
   ]
  },
  {
   "cell_type": "code",
   "execution_count": 8,
   "metadata": {},
   "outputs": [
    {
     "data": {
      "text/plain": [
       "[[['NS1', 'EW24'], 'Jurong East'],\n",
       " [['NS2'], 'Bukit Batok'],\n",
       " [['NS3'], 'Bukit Gombak'],\n",
       " [['NS4', 'BP1'], 'Choa Chu Kang'],\n",
       " [['NS5'], 'Yew Tee'],\n",
       " [['NS7'], 'Kranji'],\n",
       " [['NS8'], 'Marsiling'],\n",
       " [['NS9', 'TE2'], 'Woodlands'],\n",
       " [['NS10'], 'Admiralty'],\n",
       " [['NS11'], 'Sembawang'],\n",
       " [['NS12'], 'Canberra'],\n",
       " [['NS13'], 'Yishun'],\n",
       " [['NS14'], 'Khatib'],\n",
       " [['NS15'], 'Yio Chu Kang'],\n",
       " [['NS16'], 'Ang Mo Kio'],\n",
       " [['NS17', 'CC15'], 'Bishan'],\n",
       " [['NS18'], 'Braddell'],\n",
       " [['NS19'], 'Toa Payoh'],\n",
       " [['NS20'], 'Novena'],\n",
       " [['NS21', 'DT11'], 'Newton'],\n",
       " [['NS22'], 'Orchard'],\n",
       " [['NS23'], 'Somerset'],\n",
       " [['NS24', 'NE6', 'CC1'], 'Dhoby Ghaut'],\n",
       " [['NS25', 'EW13'], 'City Hall'],\n",
       " [['NS26', 'EW14'], 'Raffles Place'],\n",
       " [['NS27', 'CE2'], 'Marina Bay'],\n",
       " [['NS28'], 'Marina South Pier'],\n",
       " [['EW1'], 'Pasir Ris'],\n",
       " [['EW2', 'DT32'], 'Tampines'],\n",
       " [['EW3'], 'Simei'],\n",
       " [['EW4', 'CG'], 'Tanah Merah'],\n",
       " [['EW5'], 'Bedok'],\n",
       " [['EW6'], 'Kembangan'],\n",
       " [['EW7'], 'Eunos'],\n",
       " [['EW8', 'CC9'], 'Paya Lebar'],\n",
       " [['EW9'], 'Aljunied'],\n",
       " [['EW10'], 'Kallang'],\n",
       " [['EW11'], 'Lavender'],\n",
       " [['EW12', 'DT14'], 'Bugis'],\n",
       " [['EW13', 'NS25'], 'City Hall'],\n",
       " [['EW14', 'NS26'], 'Raffles Place'],\n",
       " [['EW15'], 'Tanjong Pagar'],\n",
       " [['EW16', 'NE3'], 'Outram Park'],\n",
       " [['EW17'], 'Tiong Bahru'],\n",
       " [['EW18'], 'Redhill'],\n",
       " [['EW19'], 'Queenstown'],\n",
       " [['EW20'], 'Commonwealth'],\n",
       " [['EW21', 'CC22'], 'Buona Vista'],\n",
       " [['EW22'], 'Dover'],\n",
       " [['EW23'], 'Clementi'],\n",
       " [['EW24', 'NS1'], 'Jurong East'],\n",
       " [['EW25'], 'Chinese Garden'],\n",
       " [['EW26'], 'Lakeside'],\n",
       " [['EW27'], 'Boon Lay'],\n",
       " [['EW28'], 'Pioneer'],\n",
       " [['EW29'], 'Joo Koon'],\n",
       " [['EW30'], 'Gul Circle'],\n",
       " [['EW31'], 'Tuas Crescent'],\n",
       " [['EW32'], 'Tuas West Road'],\n",
       " [['EW33'], 'Tuas Link'],\n",
       " [['CG1', 'DT35'], 'Expo'],\n",
       " [['CG2'], 'Changi Airport'],\n",
       " [['NE1', 'CC29'], 'HarbourFront'],\n",
       " [['NE3', 'EW16'], 'Outram Park'],\n",
       " [['NE4', 'DT19'], 'Chinatown'],\n",
       " [['NE5'], 'Clarke Quay'],\n",
       " [['NE6', 'NS24', 'CC1'], 'Dhoby Ghaut'],\n",
       " [['NE7', 'DT12'], 'Little India'],\n",
       " [['NE8'], 'Farrer Park'],\n",
       " [['NE9'], 'Boon Keng'],\n",
       " [['NE10'], 'Potong Pasir'],\n",
       " [['NE11'], 'Woodleigh'],\n",
       " [['NE12', 'CC13'], 'Serangoon'],\n",
       " [['NE13'], 'Kovan'],\n",
       " [['NE14'], 'Hougang'],\n",
       " [['NE15'], 'Buangkok'],\n",
       " [['NE16', 'STC'], 'Sengkang'],\n",
       " [['NE17', 'PTC'], 'Punggol'],\n",
       " [['CC1', 'NS24', 'NE6'], 'Dhoby Ghaut'],\n",
       " [['CC2'], 'Bras Basah'],\n",
       " [['CC3'], 'Esplanade'],\n",
       " [['CC4', 'DT15'], 'Promenade'],\n",
       " [['CC5'], 'Nicoll Highway'],\n",
       " [['CC6'], 'Stadium'],\n",
       " [['CC7'], 'Mountbatten'],\n",
       " [['CC8'], 'Dakota'],\n",
       " [['CC9', 'EW8'], 'Paya Lebar'],\n",
       " [['CC10', 'DT26'], 'MacPherson'],\n",
       " [['CC11'], 'Tai Seng'],\n",
       " [['CC12'], 'Bartley'],\n",
       " [['CC13', 'NE12'], 'Serangoon'],\n",
       " [['CC14'], 'Lorong Chuan'],\n",
       " [['CC15', 'NS17'], 'Bishan'],\n",
       " [['CC16'], 'Marymount'],\n",
       " [['CC17'], 'Caldecott'],\n",
       " [['CC19', 'DT9'], 'Botanic Gardens • Kebun Bunga'],\n",
       " [['CC20'], 'Farrer Road'],\n",
       " [['CC21'], 'Holland Village'],\n",
       " [['CC22', 'EW21'], 'Buona Vista'],\n",
       " [['CC23'], 'one-north'],\n",
       " [['CC24'], 'Kent Ridge'],\n",
       " [['CC25'], 'Haw Par Villa'],\n",
       " [['CC26'], 'Pasir Panjang'],\n",
       " [['CC27'], 'Labrador Park'],\n",
       " [['CC28'], 'Telok Blangah'],\n",
       " [['CC29', 'NE1'], 'HarbourFront'],\n",
       " [['CE1', 'DT16'], 'Bayfront'],\n",
       " [['CE2', 'NS27'], 'Marina Bay'],\n",
       " [['DT1', 'BP6'], 'Bukit Panjang'],\n",
       " [['DT2'], 'Cashew'],\n",
       " [['DT3'], 'Hillview'],\n",
       " [['DT5'], 'Beauty World'],\n",
       " [['DT6'], 'King Albert Park'],\n",
       " [['DT7'], 'Sixth Avenue'],\n",
       " [['DT8'], 'Tan Kah Kee'],\n",
       " [['DT9', 'CC19'], 'Botanic Gardens • Kebun Bunga'],\n",
       " [['DT10'], 'Stevens'],\n",
       " [['DT11', 'NS21'], 'Newton'],\n",
       " [['DT12', 'NE7'], 'Little India'],\n",
       " [['DT13'], 'Rochor'],\n",
       " [['DT14', 'EW12'], 'Bugis'],\n",
       " [['DT15', 'CC4'], 'Promenade'],\n",
       " [['DT16', 'CE1'], 'Bayfront'],\n",
       " [['DT17'], 'Downtown'],\n",
       " [['DT18'], 'Telok Ayer'],\n",
       " [['DT19', 'NE4'], 'Chinatown'],\n",
       " [['DT20'], 'Fort Canning'],\n",
       " [['DT21'], 'Bencoolen'],\n",
       " [['DT22'], 'Jalan Besar'],\n",
       " [['DT23'], 'Bendemeer'],\n",
       " [['DT24'], 'Geylang Bahru'],\n",
       " [['DT25'], 'Mattar'],\n",
       " [['DT26', 'CC10'], 'MacPherson'],\n",
       " [['DT27'], 'Ubi'],\n",
       " [['DT28'], 'Kaki Bukit'],\n",
       " [['DT29'], 'Bedok North'],\n",
       " [['DT30'], 'Bedok Reservoir'],\n",
       " [['DT31'], 'Tampines West'],\n",
       " [['DT32', 'EW2'], 'Tampines'],\n",
       " [['DT33'], 'Tampines East'],\n",
       " [['DT34'], 'Upper Changi'],\n",
       " [['DT35', 'CG1'], 'Expo'],\n",
       " [['TE1', 'RTS'], 'Woodlands North'],\n",
       " [['TE2', 'NS9'], 'Woodlands'],\n",
       " [['TE3'], 'Woodlands South'],\n",
       " [['CC17'], 'Caldecott'],\n",
       " [['DT10'], 'Stevens'],\n",
       " [['NS22'], 'Orchard'],\n",
       " [['EW16', 'NE3'], 'Outram Park'],\n",
       " [['NS27', 'CE2'], 'Marina Bay'],\n",
       " [['CG2'], 'Changi Airport'],\n",
       " [['CG1', 'DT35'], 'Expo'],\n",
       " [['EW4', 'CG'], 'Tanah Merah'],\n",
       " [['NS4', 'BP1'], 'Choa Chu Kang'],\n",
       " [['EW27'], 'Boon Lay'],\n",
       " [['NS1', 'EW24'], 'Jurong East'],\n",
       " [['EW1'], 'Pasir Ris'],\n",
       " [['NE14'], 'Hougang'],\n",
       " [['NS16'], 'Ang Mo Kio'],\n",
       " [['PE4'], 'Riviera'],\n",
       " [['NE17', 'PTC'], 'Punggol']]"
      ]
     },
     "execution_count": 8,
     "metadata": {},
     "output_type": "execute_result"
    }
   ],
   "source": [
    "data"
   ]
  },
  {
   "cell_type": "code",
   "execution_count": 9,
   "metadata": {},
   "outputs": [
    {
     "data": {
      "text/plain": [
       "161"
      ]
     },
     "execution_count": 9,
     "metadata": {},
     "output_type": "execute_result"
    }
   ],
   "source": [
    "len(data)"
   ]
  },
  {
   "cell_type": "code",
   "execution_count": 10,
   "metadata": {},
   "outputs": [],
   "source": [
    "filtered_list = list(filter(lambda x: x[0][0][:2] in ['NS', 'CC', 'EW', 'NE', 'CG'], data))"
   ]
  },
  {
   "cell_type": "code",
   "execution_count": 11,
   "metadata": {},
   "outputs": [],
   "source": [
    "import pandas as pd"
   ]
  },
  {
   "cell_type": "code",
   "execution_count": 12,
   "metadata": {},
   "outputs": [],
   "source": [
    "df = pd.DataFrame(filtered_list, columns=[\"station_code\", \"station_name\"])"
   ]
  },
  {
   "cell_type": "code",
   "execution_count": 13,
   "metadata": {},
   "outputs": [
    {
     "data": {
      "text/html": [
       "<div>\n",
       "<style scoped>\n",
       "    .dataframe tbody tr th:only-of-type {\n",
       "        vertical-align: middle;\n",
       "    }\n",
       "\n",
       "    .dataframe tbody tr th {\n",
       "        vertical-align: top;\n",
       "    }\n",
       "\n",
       "    .dataframe thead th {\n",
       "        text-align: right;\n",
       "    }\n",
       "</style>\n",
       "<table border=\"1\" class=\"dataframe\">\n",
       "  <thead>\n",
       "    <tr style=\"text-align: right;\">\n",
       "      <th></th>\n",
       "      <th>station_code</th>\n",
       "      <th>station_name</th>\n",
       "    </tr>\n",
       "  </thead>\n",
       "  <tbody>\n",
       "    <tr>\n",
       "      <th>0</th>\n",
       "      <td>[NS1, EW24]</td>\n",
       "      <td>Jurong East</td>\n",
       "    </tr>\n",
       "    <tr>\n",
       "      <th>1</th>\n",
       "      <td>[NS2]</td>\n",
       "      <td>Bukit Batok</td>\n",
       "    </tr>\n",
       "    <tr>\n",
       "      <th>2</th>\n",
       "      <td>[NS3]</td>\n",
       "      <td>Bukit Gombak</td>\n",
       "    </tr>\n",
       "    <tr>\n",
       "      <th>3</th>\n",
       "      <td>[NS4, BP1]</td>\n",
       "      <td>Choa Chu Kang</td>\n",
       "    </tr>\n",
       "    <tr>\n",
       "      <th>4</th>\n",
       "      <td>[NS5]</td>\n",
       "      <td>Yew Tee</td>\n",
       "    </tr>\n",
       "    <tr>\n",
       "      <th>5</th>\n",
       "      <td>[NS7]</td>\n",
       "      <td>Kranji</td>\n",
       "    </tr>\n",
       "    <tr>\n",
       "      <th>6</th>\n",
       "      <td>[NS8]</td>\n",
       "      <td>Marsiling</td>\n",
       "    </tr>\n",
       "    <tr>\n",
       "      <th>7</th>\n",
       "      <td>[NS9, TE2]</td>\n",
       "      <td>Woodlands</td>\n",
       "    </tr>\n",
       "    <tr>\n",
       "      <th>8</th>\n",
       "      <td>[NS10]</td>\n",
       "      <td>Admiralty</td>\n",
       "    </tr>\n",
       "    <tr>\n",
       "      <th>9</th>\n",
       "      <td>[NS11]</td>\n",
       "      <td>Sembawang</td>\n",
       "    </tr>\n",
       "  </tbody>\n",
       "</table>\n",
       "</div>"
      ],
      "text/plain": [
       "  station_code   station_name\n",
       "0  [NS1, EW24]    Jurong East\n",
       "1        [NS2]    Bukit Batok\n",
       "2        [NS3]   Bukit Gombak\n",
       "3   [NS4, BP1]  Choa Chu Kang\n",
       "4        [NS5]        Yew Tee\n",
       "5        [NS7]         Kranji\n",
       "6        [NS8]      Marsiling\n",
       "7   [NS9, TE2]      Woodlands\n",
       "8       [NS10]      Admiralty\n",
       "9       [NS11]      Sembawang"
      ]
     },
     "execution_count": 13,
     "metadata": {},
     "output_type": "execute_result"
    }
   ],
   "source": [
    "df.head(10)"
   ]
  },
  {
   "cell_type": "code",
   "execution_count": 16,
   "metadata": {},
   "outputs": [],
   "source": [
    "exploded_df = df.explode('station_code')"
   ]
  },
  {
   "cell_type": "code",
   "execution_count": 21,
   "metadata": {},
   "outputs": [],
   "source": [
    "exploded_df.drop_duplicates().reset_index(drop=True).to_csv('./smrt_stations.csv')"
   ]
  },
  {
   "cell_type": "code",
   "execution_count": null,
   "metadata": {},
   "outputs": [],
   "source": [
    "# 78"
   ]
  }
 ],
 "metadata": {
  "kernelspec": {
   "display_name": "Python 3",
   "language": "python",
   "name": "python3"
  },
  "language_info": {
   "codemirror_mode": {
    "name": "ipython",
    "version": 3
   },
   "file_extension": ".py",
   "mimetype": "text/x-python",
   "name": "python",
   "nbconvert_exporter": "python",
   "pygments_lexer": "ipython3",
   "version": "3.7.3"
  }
 },
 "nbformat": 4,
 "nbformat_minor": 2
}
